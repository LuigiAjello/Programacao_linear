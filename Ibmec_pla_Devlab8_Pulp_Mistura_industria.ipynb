{
  "nbformat": 4,
  "nbformat_minor": 0,
  "metadata": {
    "colab": {
      "provenance": [],
      "authorship_tag": "ABX9TyOtUA4ja4s1dvRjXN3znyHr",
      "include_colab_link": true
    },
    "kernelspec": {
      "name": "python3",
      "display_name": "Python 3"
    },
    "language_info": {
      "name": "python"
    }
  },
  "cells": [
    {
      "cell_type": "markdown",
      "metadata": {
        "id": "view-in-github",
        "colab_type": "text"
      },
      "source": [
        "<a href=\"https://colab.research.google.com/github/LuigiAjello/Programacao_linear/blob/main/Ibmec_pla_Devlab8_Pulp_Mistura_industria.ipynb\" target=\"_parent\"><img src=\"https://colab.research.google.com/assets/colab-badge.svg\" alt=\"Open In Colab\"/></a>"
      ]
    },
    {
      "cell_type": "code",
      "execution_count": 1,
      "metadata": {
        "colab": {
          "base_uri": "https://localhost:8080/"
        },
        "id": "NY3xVmGa4NRl",
        "outputId": "6f5d94ce-97c1-407d-f2e7-19c51e672295"
      },
      "outputs": [
        {
          "output_type": "stream",
          "name": "stdout",
          "text": [
            "Collecting PulP\n",
            "  Downloading pulp-3.1.1-py3-none-any.whl.metadata (1.3 kB)\n",
            "Downloading pulp-3.1.1-py3-none-any.whl (16.4 MB)\n",
            "\u001b[2K   \u001b[90m━━━━━━━━━━━━━━━━━━━━━━━━━━━━━━━━━━━━━━━━\u001b[0m \u001b[32m16.4/16.4 MB\u001b[0m \u001b[31m45.5 MB/s\u001b[0m eta \u001b[36m0:00:00\u001b[0m\n",
            "\u001b[?25hInstalling collected packages: PulP\n",
            "Successfully installed PulP-3.1.1\n"
          ]
        }
      ],
      "source": [
        "#instalar o PulP no Python\n",
        "!pip install PulP"
      ]
    },
    {
      "cell_type": "code",
      "source": [
        "## import dos pacotes do solve do PulP no python\n",
        "from pulp import LpMaximize\n",
        "from pulp import LpMinimize\n",
        "from pulp import LpProblem\n",
        "from pulp import LpStatus\n",
        "from pulp import LpVariable"
      ],
      "metadata": {
        "id": "yGCUuHzh4WzV"
      },
      "execution_count": 2,
      "outputs": []
    },
    {
      "cell_type": "code",
      "source": [
        "## Cria e modela o problema de Otimização\n",
        "model = LpProblem(name = \"AgroIndustria\", sense = LpMinimize )"
      ],
      "metadata": {
        "id": "CZmb47fN4Yn1"
      },
      "execution_count": 3,
      "outputs": []
    },
    {
      "cell_type": "code",
      "source": [
        "##inicializa as variaveis de decisão\n",
        "\n",
        "#x1 = Quantidade (m3) de britas graniticas obtidas por desmonte de rochas\n",
        "#x2 = Quantidade (m3) de seixo rolado\n",
        "#x3 = Quantidade (m3) de brita comercial\n",
        "\n",
        "\n",
        "x1 =  LpVariable(name=\"x1\", lowBound=0) #\"lowbound = 0\" significa -> (x,y)> 0\n",
        "x2 = LpVariable(name=\"x2\", lowBound=0)\n",
        "x3 = LpVariable(name=\"x3\", lowBound=0)"
      ],
      "metadata": {
        "id": "ZsvXlUrU4l9u"
      },
      "execution_count": 4,
      "outputs": []
    },
    {
      "cell_type": "code",
      "source": [
        "## Adiciona as restrições(constraint) ao Modelo\n",
        "\n",
        "model += (0.05*x2 +0.20*x3>=0.10 ,\"r1_constraint\") ##model.add_constraint(equacao, name)\n",
        "model +=(0.10*x1 +0.35*x2 + 0.78*x3 >= 0.20,\"r2_constraint\")\n",
        "model +=(0.20*x1 +0.60*x2 + 0.02*x3 >= 0.35 ,\"r3_constraint\")\n",
        "model +=(0.70*x1  >= 0.35 ,\"r4_constraint\")\n",
        "model +=(x1 +x2 +x3 == 1 ,\"r5_constraint\")"
      ],
      "metadata": {
        "id": "WVARKoyz4xT3"
      },
      "execution_count": 7,
      "outputs": []
    },
    {
      "cell_type": "code",
      "source": [
        "##adiciono a funcao objetivo ao Modelo\n",
        "obj_function = 6*x1 +  7*x2 +  18*x3\n",
        "model += obj_function\n",
        "print(model)\n"
      ],
      "metadata": {
        "colab": {
          "base_uri": "https://localhost:8080/"
        },
        "id": "V5TonBagW245",
        "outputId": "ad25ae19-4356-4418-aea7-9dca7f95fe66"
      },
      "execution_count": 8,
      "outputs": [
        {
          "output_type": "stream",
          "name": "stdout",
          "text": [
            "AgroIndustria:\n",
            "MINIMIZE\n",
            "6*x1 + 7*x2 + 18*x3 + 0\n",
            "SUBJECT TO\n",
            "r1_constraint: 0.05 x2 + 0.2 x3 >= 0.1\n",
            "\n",
            "r2_constraint: 0.1 x1 + 0.35 x2 + 0.78 x3 >= 0.2\n",
            "\n",
            "r3_constraint: 0.2 x1 + 0.6 x2 + 0.02 x3 >= 0.35\n",
            "\n",
            "r4_constraint: 0.7 x1 >= 0.35\n",
            "\n",
            "r5_constraint: x1 + x2 + x3 = 1\n",
            "\n",
            "VARIABLES\n",
            "x1 Continuous\n",
            "x2 Continuous\n",
            "x3 Continuous\n",
            "\n"
          ]
        }
      ]
    },
    {
      "cell_type": "code",
      "source": [
        "##resolve o modelo\n",
        "status = model.solve();\n"
      ],
      "metadata": {
        "id": "IZ7710RRXHsa"
      },
      "execution_count": 10,
      "outputs": []
    },
    {
      "cell_type": "code",
      "source": [
        "## obtem os resultados do modelo\n",
        "print(f\"Status:{model.status}, {LpStatus[model.status]}\")\n",
        "\n",
        "print(f\"Objective:{model.objective.value()}\")\n",
        "\n",
        "\n",
        "#imprimindo variaveis do modelo\n",
        "for variavel in model.variables():\n",
        "  print(f\"{variavel.name}:{variavel.value()}\")\n",
        "\n",
        "\n",
        "#imprimindo restricoes do modelo\n",
        "for name, constraint in model.constraints.items():\n",
        "  print(f\"{name}: {constraint.value()}\")\n",
        "\n",
        "#imprimindo o solver padrao do modelo\n",
        "\n",
        "print(model.solver)"
      ],
      "metadata": {
        "colab": {
          "base_uri": "https://localhost:8080/"
        },
        "id": "cIAQFOUVXLzA",
        "outputId": "d6de8d68-eb26-49c9-aacc-f7eced864617"
      },
      "execution_count": 11,
      "outputs": [
        {
          "output_type": "stream",
          "name": "stdout",
          "text": [
            "Status:-1, Infeasible\n",
            "Objective:13.008403260000001\n",
            "x1:0.5\n",
            "x2:0.40336134\n",
            "x3:0.39915966\n",
            "r1_constraint: -9.999999994736442e-10\n",
            "r2_constraint: 0.3025210038\n",
            "r3_constraint: -2.799999969729794e-09\n",
            "r4_constraint: 0.0\n",
            "r5_constraint: 0.30252100000000004\n",
            "<pulp.apis.coin_api.PULP_CBC_CMD object at 0x7a46b89aa310>\n"
          ]
        }
      ]
    }
  ]
}