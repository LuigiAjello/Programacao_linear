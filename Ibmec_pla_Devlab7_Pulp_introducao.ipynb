{
  "nbformat": 4,
  "nbformat_minor": 0,
  "metadata": {
    "colab": {
      "provenance": [],
      "authorship_tag": "ABX9TyNLrfy5Z3iKwd2LYFHsz0l2",
      "include_colab_link": true
    },
    "kernelspec": {
      "name": "python3",
      "display_name": "Python 3"
    },
    "language_info": {
      "name": "python"
    }
  },
  "cells": [
    {
      "cell_type": "markdown",
      "metadata": {
        "id": "view-in-github",
        "colab_type": "text"
      },
      "source": [
        "<a href=\"https://colab.research.google.com/github/LuigiAjello/Programacao_linear/blob/main/Ibmec_pla_Devlab7_Pulp_introducao.ipynb\" target=\"_parent\"><img src=\"https://colab.research.google.com/assets/colab-badge.svg\" alt=\"Open In Colab\"/></a>"
      ]
    },
    {
      "cell_type": "code",
      "execution_count": 52,
      "metadata": {
        "colab": {
          "base_uri": "https://localhost:8080/"
        },
        "id": "AuRx4egbYOPU",
        "outputId": "a597f2ae-6f1e-4845-9583-547da5a78185"
      },
      "outputs": [
        {
          "output_type": "stream",
          "name": "stdout",
          "text": [
            "Requirement already satisfied: PulP in /usr/local/lib/python3.11/dist-packages (3.1.1)\n"
          ]
        }
      ],
      "source": [
        "#instalar o PulP no Python\n",
        "!pip install PulP\n"
      ]
    },
    {
      "cell_type": "code",
      "source": [
        "## import dos pacotes do solve do PulP no python\n",
        "from pulp import LpMaximize\n",
        "from pulp import LpMinimize\n",
        "from pulp import LpProblem\n",
        "from pulp import LpStatus\n",
        "from pulp import LpVariable"
      ],
      "metadata": {
        "id": "yjbzFcL_ZRb8"
      },
      "execution_count": 53,
      "outputs": []
    },
    {
      "cell_type": "code",
      "source": [
        "## Cria e modela o problema de Otimização\n",
        "model = LpProblem(name = \"AgroIndustria\", sense = LpMaximize )"
      ],
      "metadata": {
        "id": "WLk48QNIZ-rG"
      },
      "execution_count": 54,
      "outputs": []
    },
    {
      "cell_type": "code",
      "source": [
        "##inicializa as variaveis de decisão\n",
        "x =  LpVariable(name=\"x\", lowBound=0) #\"lowbound = 0\" significa -> (x,y)> 0\n",
        "y = LpVariable(name=\"y\", lowBound=0)"
      ],
      "metadata": {
        "id": "N9dIEDwBZfsZ"
      },
      "execution_count": 55,
      "outputs": []
    },
    {
      "cell_type": "code",
      "source": [
        "## Adiciona as restrições(constraint) ao Modelo\n",
        "\n",
        "model += (2*x+y<=20,\"r1_constraint\") #model.add_constraint(equacao, name)\n",
        "model +=(4*x - 5*y >= -10,\"r2_constraint\")\n",
        "model +=(-x + 2*y  >= -2,\"r3_constraint\")\n",
        "model +=(-x + 5*y  == 15 ,\"r4_constraint\")"
      ],
      "metadata": {
        "id": "fjKogkgWkcAW"
      },
      "execution_count": 56,
      "outputs": []
    },
    {
      "cell_type": "code",
      "source": [
        "##adiciono a funcao objetivo ao Modelo\n",
        "obj_function = x + 2*y\n",
        "model += obj_function\n",
        "print(model)"
      ],
      "metadata": {
        "colab": {
          "base_uri": "https://localhost:8080/"
        },
        "id": "KLx6R5nzrQc5",
        "outputId": "1d97b98b-0045-4a2a-b0c7-c3acb796b045"
      },
      "execution_count": 57,
      "outputs": [
        {
          "output_type": "stream",
          "name": "stdout",
          "text": [
            "AgroIndustria:\n",
            "MAXIMIZE\n",
            "1*x + 2*y + 0\n",
            "SUBJECT TO\n",
            "r1_constraint: 2 x + y <= 20\n",
            "\n",
            "r2_constraint: 4 x - 5 y >= -10\n",
            "\n",
            "r3_constraint: - x + 2 y >= -2\n",
            "\n",
            "r4_constraint: - x + 5 y = 15\n",
            "\n",
            "VARIABLES\n",
            "x Continuous\n",
            "y Continuous\n",
            "\n"
          ]
        }
      ]
    },
    {
      "cell_type": "code",
      "source": [
        "##resolve o modelo\n",
        "status = model.solve();\n"
      ],
      "metadata": {
        "id": "qG3mFJXIsdts"
      },
      "execution_count": 58,
      "outputs": []
    },
    {
      "cell_type": "code",
      "source": [
        "## obtem os resultados do modelo\n",
        "print(f\"Status:{model.status}, {LpStatus[model.status]}\")\n",
        "\n",
        "print(f\"Objective:{model.objective.value()}\")\n",
        "\n",
        "\n",
        "#imprimindo variaveis do modelo\n",
        "for variavel in model.variables():\n",
        "  print(f\"{variavel.name}:{variavel.value()}\")\n",
        "\n",
        "\n",
        "#imprimindo restricoes do modelo\n",
        "for name, constraint in model.constraints.items():\n",
        "  print(f\"{name}: {constraint.value()}\")\n",
        "\n",
        "#imprimindo o solver padrao do modelo\n",
        "\n",
        "print(model.solver)"
      ],
      "metadata": {
        "colab": {
          "base_uri": "https://localhost:8080/"
        },
        "id": "97EhqCFqs4HE",
        "outputId": "41a73a68-2e7c-4cbd-ec41-322d49e486fb"
      },
      "execution_count": 59,
      "outputs": [
        {
          "output_type": "stream",
          "name": "stdout",
          "text": [
            "Status:1, Optimal\n",
            "Objective:16.8181817\n",
            "x:7.7272727\n",
            "y:4.5454545\n",
            "r1_constraint: -9.99999993922529e-08\n",
            "r2_constraint: 18.181818300000003\n",
            "r3_constraint: 3.3636362999999996\n",
            "r4_constraint: -2.0000000233721948e-07\n",
            "<pulp.apis.coin_api.PULP_CBC_CMD object at 0x7e9d476a6350>\n"
          ]
        }
      ]
    }
  ]
}