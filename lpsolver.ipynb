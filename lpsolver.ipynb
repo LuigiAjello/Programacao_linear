{
  "nbformat": 4,
  "nbformat_minor": 0,
  "metadata": {
    "colab": {
      "provenance": [],
      "authorship_tag": "ABX9TyP/ZKimiueKGnsmiMsEGOf3",
      "include_colab_link": true
    },
    "kernelspec": {
      "name": "python3",
      "display_name": "Python 3"
    },
    "language_info": {
      "name": "python"
    }
  },
  "cells": [
    {
      "cell_type": "markdown",
      "metadata": {
        "id": "view-in-github",
        "colab_type": "text"
      },
      "source": [
        "<a href=\"https://colab.research.google.com/github/LuigiAjello/Programacao_linear/blob/main/lpsolver.ipynb\" target=\"_parent\"><img src=\"https://colab.research.google.com/assets/colab-badge.svg\" alt=\"Open In Colab\"/></a>"
      ]
    },
    {
      "cell_type": "code",
      "execution_count": null,
      "metadata": {
        "id": "-X6sO7FTMqNN"
      },
      "outputs": [],
      "source": [
        "/* Problema da Agroindústria: Mistura ração\n",
        "\n",
        "Variáveis:\n",
        "x1: osso\n",
        "x2: soja\n",
        "x3: peixe\n",
        "*/\n",
        "\n",
        "//Função objetiva:\n",
        "min:0.56 x1 + 0.81 x2 + 0.46 x3;\n",
        "\n",
        "//Restrições\n",
        "//Genpericas:\n",
        "x1 >=0;\n",
        "x2 >=0;\n",
        "x3 >=0;\n",
        "\n",
        "//Específicas\n",
        "mistura_total: x1+x2+x3=1;\n",
        "proteina_total: 0.2 x1 + 0.5 x2 +0.4 x3 >= 0.3;\n",
        "calcio_total: 0.6 x1+ 0.4 x2 + 0.4 x3 >= 0.5;"
      ]
    }
  ]
}