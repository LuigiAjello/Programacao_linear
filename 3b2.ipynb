{
  "nbformat": 4,
  "nbformat_minor": 0,
  "metadata": {
    "colab": {
      "provenance": [],
      "authorship_tag": "ABX9TyNHC7TyuULEz8P7s3UeGGye",
      "include_colab_link": true
    },
    "kernelspec": {
      "name": "python3",
      "display_name": "Python 3"
    },
    "language_info": {
      "name": "python"
    }
  },
  "cells": [
    {
      "cell_type": "markdown",
      "metadata": {
        "id": "view-in-github",
        "colab_type": "text"
      },
      "source": [
        "<a href=\"https://colab.research.google.com/github/LuigiAjello/Programacao_linear/blob/main/3b2.ipynb\" target=\"_parent\"><img src=\"https://colab.research.google.com/assets/colab-badge.svg\" alt=\"Open In Colab\"/></a>"
      ]
    },
    {
      "cell_type": "code",
      "execution_count": null,
      "metadata": {
        "id": "5v4jzFT4y_aZ"
      },
      "outputs": [],
      "source": [
        "# devlab 3b2 – Método de resolução de problemas de transporte\n",
        "# usando algoritmo em Python e a biblioteca PuLP\n",
        "# (adaptação do exemplo em R do Prof. Bruno Miranda)\n",
        "\n",
        "# pip install pulp\n",
        "from pulp import *\n",
        "\n",
        "# -------------------------------------------------------------------\n",
        "# 1. Dados básicos\n",
        "# -------------------------------------------------------------------\n",
        "# Fábricas (oferta) e mercados (demanda)\n",
        "fabricas  = [\"F1\", \"F2\", \"F3\"]\n",
        "mercados  = [\"M1\", \"M2\", \"M3\", \"M4\"]\n",
        "\n",
        "# Oferta de cada fábrica\n",
        "oferta = {\n",
        "    \"F1\": 7,\n",
        "    \"F2\": 9,\n",
        "    \"F3\": 18\n",
        "}\n",
        "\n",
        "# Demanda de cada mercado\n",
        "demanda = {\n",
        "    \"M1\": 5,\n",
        "    \"M2\": 8,\n",
        "    \"M3\": 7,\n",
        "    \"M4\": 14\n",
        "}\n",
        "\n",
        "# Custos de transporte (linha = fábrica, coluna = mercado)\n",
        "custos = [\n",
        "    [19, 30, 50, 10],   # Fábrica F1\n",
        "    [70, 30, 40, 60],   # Fábrica F2\n",
        "    [40,  8,  7, 20]    # Fábrica F3\n",
        "]\n",
        "\n",
        "# Converte a lista em dicionário no formato PuLP\n",
        "matriz_custos = makeDict([fabricas, mercados], custos, 0)\n",
        "\n",
        "# Lista com todas as rotas possíveis (pareado fábrica-mercado)\n",
        "rotas = [(f, m) for f in fabricas for m in mercados]\n",
        "\n",
        "# -------------------------------------------------------------------\n",
        "# 2. Modelo de otimização\n",
        "# -------------------------------------------------------------------\n",
        "model = LpProblem(\"Problema_de_transporte\", LpMinimize)\n",
        "\n",
        "# Variáveis de decisão: quantidade enviada em cada rota (inteira ≥ 0)\n",
        "x = LpVariable.dicts(\"Fluxo\", (fabricas, mercados), lowBound=0, cat=\"Integer\")\n",
        "\n",
        "# Função-objetivo: minimizar o custo total de transporte\n",
        "model += lpSum(x[f][m] * matriz_custos[f][m] for (f, m) in rotas)\n",
        "\n",
        "# Restrição de oferta: cada fábrica só pode enviar até a oferta disponível\n",
        "for f in fabricas:\n",
        "    model += lpSum(x[f][m] for m in mercados) == oferta[f], \\\n",
        "             f\"Oferta_{f}\"\n",
        "\n",
        "# Restrição de demanda: cada mercado deve receber pelo menos a demanda\n",
        "for m in mercados:\n",
        "    model += lpSum(x[f][m] for f in fabricas) == demanda[m], \\\n",
        "             f\"Demanda_{m}\"\n",
        "\n",
        "# -------------------------------------------------------------------\n",
        "# 3. Resolver e mostrar resultados\n",
        "# -------------------------------------------------------------------\n",
        "model.solve()\n",
        "\n",
        "print(\"Status:\", LpStatus[model.status])\n",
        "for v in model.variables():\n",
        "    print(f\"{v.name} = {v.varValue}\")\n",
        "\n",
        "if model.status == 1:          # 1 → Ótimo encontrado\n",
        "    print(\"Custo total mínimo:\", value(model.objective))\n",
        "else:\n",
        "    print(\"O modelo não foi resolvido com sucesso.\")\n"
      ]
    }
  ]
}