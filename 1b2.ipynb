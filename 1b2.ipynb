{
  "nbformat": 4,
  "nbformat_minor": 0,
  "metadata": {
    "colab": {
      "provenance": [],
      "authorship_tag": "ABX9TyPF00//YAPrHy5wr5BuF06D",
      "include_colab_link": true
    },
    "kernelspec": {
      "name": "python3",
      "display_name": "Python 3"
    },
    "language_info": {
      "name": "python"
    }
  },
  "cells": [
    {
      "cell_type": "markdown",
      "metadata": {
        "id": "view-in-github",
        "colab_type": "text"
      },
      "source": [
        "<a href=\"https://colab.research.google.com/github/LuigiAjello/Programacao_linear/blob/main/1b2.ipynb\" target=\"_parent\"><img src=\"https://colab.research.google.com/assets/colab-badge.svg\" alt=\"Open In Colab\"/></a>"
      ]
    },
    {
      "cell_type": "code",
      "execution_count": 5,
      "metadata": {
        "colab": {
          "base_uri": "https://localhost:8080/"
        },
        "id": "k0EHCCWTyXmk",
        "outputId": "84b629d4-2577-4664-d7ad-d2ce3c4f03de"
      },
      "outputs": [
        {
          "output_type": "stream",
          "name": "stdout",
          "text": [
            "Collecting pulp\n",
            "  Downloading pulp-3.2.1-py3-none-any.whl.metadata (6.9 kB)\n",
            "Downloading pulp-3.2.1-py3-none-any.whl (16.4 MB)\n",
            "\u001b[2K   \u001b[90m━━━━━━━━━━━━━━━━━━━━━━━━━━━━━━━━━━━━━━━━\u001b[0m \u001b[32m16.4/16.4 MB\u001b[0m \u001b[31m98.7 MB/s\u001b[0m eta \u001b[36m0:00:00\u001b[0m\n",
            "\u001b[?25hInstalling collected packages: pulp\n",
            "Successfully installed pulp-3.2.1\n",
            "Status: Optimal\n",
            "Fluxo_A_1 = 0.0\n",
            "Fluxo_A_2 = 300.0\n",
            "Fluxo_A_3 = 0.0\n",
            "Fluxo_B_1 = 150.0\n",
            "Fluxo_B_2 = 150.0\n",
            "Fluxo_B_3 = 300.0\n",
            "Fluxo_C_1 = 0.0\n",
            "Fluxo_C_2 = 0.0\n",
            "Fluxo_C_3 = 600.0\n",
            "Custo total mínimo: 4800.0\n"
          ]
        }
      ],
      "source": [
        "# ==========================================================\n",
        "# devlab 1b2 – Problema de Transporte com PuLP (Python)\n",
        "# Objetivo: mandar produtos dos armazéns A, B, C para\n",
        "# projetos 1, 2, 3 gastando o MENOR custo possível.\n",
        "# ==========================================================\n",
        "\n",
        "# Instalar a biblioteca, se necessário:\n",
        "!pip install pulp\n",
        "\n",
        "from pulp import *\n",
        "\n",
        "# ----------------------------------------------------------\n",
        "# 1) Dados de entrada\n",
        "# ----------------------------------------------------------\n",
        "# Armazéns (onde o produto está disponível)\n",
        "warehouses = [\"A\", \"B\", \"C\"]\n",
        "\n",
        "# Projetos (destino / clientes)\n",
        "projetos = [\"1\", \"2\", \"3\"]\n",
        "\n",
        "# Quanto cada armazém pode enviar\n",
        "ofertas = {\"A\": 300,\n",
        "           \"B\": 600,\n",
        "           \"C\": 600}\n",
        "\n",
        "# Quanto cada projeto precisa receber\n",
        "demandas = {\"1\": 150,\n",
        "            \"2\": 450,\n",
        "            \"3\": 900}\n",
        "\n",
        "# Custo para levar UMA unidade de cada armazém a cada projeto\n",
        "custos = [\n",
        "    [5, 1, 9],   # custos de A → (1, 2, 3)\n",
        "    [4, 2, 8],   # custos de B → (1, 2, 3)\n",
        "    [8, 7, 2]    # custos de C → (1, 2, 3)\n",
        "]\n",
        "\n",
        "# Converte a lista de custos em dicionário compreendido pelo PuLP\n",
        "matriz_custos = makeDict([warehouses, projetos], custos, 0)\n",
        "\n",
        "# ----------------------------------------------------------\n",
        "# 2) Construção do modelo\n",
        "# ----------------------------------------------------------\n",
        "model = LpProblem(\"Problema_de_transporte\", LpMinimize)\n",
        "\n",
        "# Variáveis de decisão: fluxo de produto em cada rota (w, p)\n",
        "variaveis = LpVariable.dicts(\n",
        "    \"Fluxo\",           # prefixo do nome\n",
        "    (warehouses, projetos),\n",
        "    lowBound=0,        # não pode ser negativo\n",
        "    cat=\"Continuous\"   # pode ser fracionário; troque para \"Integer\" se quiser inteiros\n",
        ")\n",
        "\n",
        "# ----------------------------------------------------------\n",
        "# 3) Função-objetivo (minimizar custo total)\n",
        "# ----------------------------------------------------------\n",
        "rotas = [(w, p) for w in warehouses for p in projetos]\n",
        "model += lpSum(variaveis[w][p] * matriz_custos[w][p] for (w, p) in rotas)\n",
        "\n",
        "# ----------------------------------------------------------\n",
        "# 4) Restrições\n",
        "# ----------------------------------------------------------\n",
        "# (a) Cada armazém envia no máximo o que tem\n",
        "for w in warehouses:\n",
        "    model += lpSum(variaveis[w][p] for p in projetos) <= ofertas[w], \\\n",
        "             f\"Limite_oferta_{w}\"\n",
        "\n",
        "# (b) Cada projeto recebe pelo menos o que precisa\n",
        "for p in projetos:\n",
        "    model += lpSum(variaveis[w][p] for w in warehouses) >= demandas[p], \\\n",
        "             f\"Atende_demanda_{p}\"\n",
        "\n",
        "# ----------------------------------------------------------\n",
        "# 5) Resolver e exibir resultados\n",
        "# ----------------------------------------------------------\n",
        "model.solve()\n",
        "\n",
        "print(\"Status:\", LpStatus[model.status])\n",
        "for v in model.variables():\n",
        "    print(f\"{v.name} = {v.varValue}\")\n",
        "\n",
        "if model.status == 1:  # 1 = solução ótima encontrada\n",
        "    print(\"Custo total mínimo:\", value(model.objective))\n",
        "else:\n",
        "    print(\"O modelo não foi resolvido com sucesso.\")\n"
      ]
    }
  ]
}